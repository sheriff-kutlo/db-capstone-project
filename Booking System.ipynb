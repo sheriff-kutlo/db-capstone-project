{
 "cells": [
  {
   "cell_type": "code",
   "execution_count": 2,
   "id": "fd6e41c0-fe04-492e-9275-522f8e61fe07",
   "metadata": {},
   "outputs": [
    {
     "name": "stdout",
     "output_type": "stream",
     "text": [
      "Requirement already satisfied: mysql-connector-python in c:\\users\\willm\\appdata\\local\\programs\\python\\python312\\lib\\site-packages (8.2.0)\n",
      "Requirement already satisfied: protobuf<=4.21.12,>=4.21.1 in c:\\users\\willm\\appdata\\local\\programs\\python\\python312\\lib\\site-packages (from mysql-connector-python) (4.21.12)\n"
     ]
    }
   ],
   "source": [
    "!pip install mysql-connector-python"
   ]
  },
  {
   "cell_type": "code",
   "execution_count": 6,
   "id": "27a4308f-37e1-490f-abab-1a34f6e07c0e",
   "metadata": {},
   "outputs": [],
   "source": [
    "# Import mysql connector\n",
    "import mysql.connector as connector\n",
    "from mysql.connector import Error"
   ]
  },
  {
   "cell_type": "code",
   "execution_count": 10,
   "id": "0517b7ad-2472-4a9e-bd8b-87457ab3720d",
   "metadata": {},
   "outputs": [
    {
     "name": "stdout",
     "output_type": "stream",
     "text": [
      "connection established successfully!\n"
     ]
    }
   ],
   "source": [
    "try:\n",
    "    connection = connector.connect(\n",
    "        user = \"root\", \n",
    "        password = \"qwerty20\",\n",
    "        database = \"littlelemondb\"\n",
    "    )\n",
    "    print(\"connection established successfully!\")\n",
    "except connector.Error as er:\n",
    "    print(f\"Error No: {er.errno}\\nError Message: {er.msg}\")"
   ]
  },
  {
   "cell_type": "code",
   "execution_count": 11,
   "id": "a2909d69-7e06-4437-ae21-85414a1d43fc",
   "metadata": {},
   "outputs": [
    {
     "name": "stdout",
     "output_type": "stream",
     "text": [
      "('bookings',)\n",
      "('customers',)\n",
      "('delivery_status',)\n",
      "('menu_items',)\n",
      "('menus',)\n",
      "('orders',)\n",
      "('ordersview',)\n",
      "('staff',)\n"
     ]
    }
   ],
   "source": [
    "# get cursor from connection\n",
    "cursor = connection.cursor()\n",
    "\n",
    "# query to show all tables to test\n",
    "query = \"SHOW TABLES;\"\n",
    "\n",
    "# execute query\n",
    "cursor.execute(query)\n",
    "\n",
    "# get query results\n",
    "for table in cursor.fetchall():\n",
    "    print(table)"
   ]
  },
  {
   "cell_type": "code",
   "execution_count": null,
   "id": "8d62d69c-1d1a-40c8-af30-5d0a86d08e6c",
   "metadata": {},
   "outputs": [],
   "source": []
  }
 ],
 "metadata": {
  "kernelspec": {
   "display_name": "Python 3 (ipykernel)",
   "language": "python",
   "name": "python3"
  },
  "language_info": {
   "codemirror_mode": {
    "name": "ipython",
    "version": 3
   },
   "file_extension": ".py",
   "mimetype": "text/x-python",
   "name": "python",
   "nbconvert_exporter": "python",
   "pygments_lexer": "ipython3",
   "version": "3.12.2"
  }
 },
 "nbformat": 4,
 "nbformat_minor": 5
}
