{
 "cells": [
  {
   "cell_type": "code",
   "execution_count": 1,
   "id": "fd6e41c0-fe04-492e-9275-522f8e61fe07",
   "metadata": {},
   "outputs": [
    {
     "name": "stdout",
     "output_type": "stream",
     "text": [
      "Collecting mysql-connector-python\n",
      "  Obtaining dependency information for mysql-connector-python from https://files.pythonhosted.org/packages/e1/e9/4d63f7e0d07a9019e5ce063b8569d4f8c76bf6fd8ff9ebdc9bb53bbad20f/mysql_connector_python-8.3.0-cp311-cp311-manylinux_2_17_x86_64.whl.metadata\n",
      "  Downloading mysql_connector_python-8.3.0-cp311-cp311-manylinux_2_17_x86_64.whl.metadata (1.9 kB)\n",
      "Downloading mysql_connector_python-8.3.0-cp311-cp311-manylinux_2_17_x86_64.whl (21.5 MB)\n",
      "\u001b[2K   \u001b[38;2;114;156;31m━━━━━━━━━━━━━━━━━━━━━━━━━━━━━━━━━━━━━━━━\u001b[0m \u001b[32m21.5/21.5 MB\u001b[0m \u001b[31m4.0 MB/s\u001b[0m eta \u001b[36m0:00:00\u001b[0mm eta \u001b[36m0:00:01\u001b[0m[36m0:00:01\u001b[0m\n",
      "\u001b[?25hInstalling collected packages: mysql-connector-python\n",
      "Successfully installed mysql-connector-python-8.3.0\n"
     ]
    }
   ],
   "source": [
    "!pip install mysql-connector-python"
   ]
  },
  {
   "cell_type": "code",
   "execution_count": 7,
   "id": "27a4308f-37e1-490f-abab-1a34f6e07c0e",
   "metadata": {},
   "outputs": [],
   "source": [
    "# Import mysql connector\n",
    "import mysql.connector as connector\n",
    "from mysql.connector import Error"
   ]
  },
  {
   "cell_type": "code",
   "execution_count": 8,
   "id": "0517b7ad-2472-4a9e-bd8b-87457ab3720d",
   "metadata": {},
   "outputs": [
    {
     "name": "stdout",
     "output_type": "stream",
     "text": [
      "connection established successfully!\n"
     ]
    }
   ],
   "source": [
    "try:\n",
    "    connection = connector.connect(\n",
    "        user = \"root\", \n",
    "        password = \"qwerty20\",\n",
    "        database = \"LittleLemonDB\"\n",
    "    )\n",
    "    print(\"connection established successfully!\")\n",
    "except connector.Error as er:\n",
    "    print(f\"Error No: {er.errno}\\nError Message: {er.msg}\")"
   ]
  },
  {
   "cell_type": "code",
   "execution_count": 9,
   "id": "a2909d69-7e06-4437-ae21-85414a1d43fc",
   "metadata": {},
   "outputs": [
    {
     "name": "stdout",
     "output_type": "stream",
     "text": [
      "('bookings',)\n",
      "('customers',)\n",
      "('delivery_status',)\n",
      "('menu_items',)\n",
      "('menus',)\n",
      "('orders',)\n",
      "('staff',)\n"
     ]
    }
   ],
   "source": [
    "# get cursor from connection\n",
    "cursor = connection.cursor()\n",
    "\n",
    "# query to show all tables to test\n",
    "query = \"SHOW TABLES;\"\n",
    "\n",
    "# execute query\n",
    "cursor.execute(query)\n",
    "\n",
    "# get query results\n",
    "for table in cursor.fetchall():\n",
    "    print(table)"
   ]
  },
  {
   "cell_type": "code",
   "execution_count": 10,
   "id": "8d62d69c-1d1a-40c8-af30-5d0a86d08e6c",
   "metadata": {},
   "outputs": [
    {
     "name": "stdout",
     "output_type": "stream",
     "text": [
      "('name', 'contact_details', 'TotalCost')\n",
      "('John Doe', 'john@example.com', Decimal('216.00'))\n",
      "('Jane Smith', 'jane@example.com', Decimal('158.00'))\n",
      "('Michael Johnson', 'michael@example.com', Decimal('319.00'))\n",
      "('Emily Davis', 'emily@example.com', Decimal('204.00'))\n",
      "('Christopher Wilson', 'christopher@example.com', Decimal('124.00'))\n",
      "('Michael Johnson', 'michael@example.com', Decimal('240.00'))\n",
      "('John Doe', 'john@example.com', Decimal('319.00'))\n",
      "('Christopher Wilson', 'christopher@example.com', Decimal('177.00'))\n",
      "('Christopher Wilson', 'christopher@example.com', Decimal('216.00'))\n"
     ]
    }
   ],
   "source": [
    "# query to select customer fullname, contact detail and Total Cost from customers and orders where Total Cost is \n",
    "# greater than 60\n",
    "query = \"\"\"\n",
    "    select c.name, c.contact_details, o.total_cost as TotalCost \n",
    "    \tfrom customers as c \n",
    "        inner join orders as o using(customer_id) \n",
    "        where o.total_cost > 60;\n",
    "\"\"\"\n",
    "\n",
    "# execute query\n",
    "cursor.execute(query)\n",
    "\n",
    "# get results from cursor and column names\n",
    "print(cursor.column_names)\n",
    "\n",
    "for record in cursor.fetchall():\n",
    "    print(record)"
   ]
  },
  {
   "cell_type": "code",
   "execution_count": null,
   "id": "4437130d-0259-4009-80a7-f3d64efcb0ed",
   "metadata": {},
   "outputs": [],
   "source": []
  }
 ],
 "metadata": {
  "kernelspec": {
   "display_name": "Python 3 (ipykernel)",
   "language": "python",
   "name": "python3"
  },
  "language_info": {
   "codemirror_mode": {
    "name": "ipython",
    "version": 3
   },
   "file_extension": ".py",
   "mimetype": "text/x-python",
   "name": "python",
   "nbconvert_exporter": "python",
   "pygments_lexer": "ipython3",
   "version": "3.11.6"
  }
 },
 "nbformat": 4,
 "nbformat_minor": 5
}
